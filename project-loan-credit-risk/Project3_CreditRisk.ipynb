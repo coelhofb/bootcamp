{
 "cells": [
  {
   "cell_type": "code",
   "execution_count": 1,
   "metadata": {},
   "outputs": [],
   "source": [
    "from sklearn import tree\n",
    "import pandas as pd\n",
    "import numpy as np\n",
    "import matplotlib.pyplot as plt\n",
    "import os\n",
    "from sklearn.metrics import confusion_matrix, classification_report, auc\n",
    "from sklearn.metrics import roc_auc_score\n",
    "from sklearn.metrics import roc_curve\n",
    "from sklearn.model_selection import GridSearchCV\n",
    "import matplotlib.pyplot as plt "
   ]
  },
  {
   "cell_type": "code",
   "execution_count": 2,
   "metadata": {},
   "outputs": [
    {
     "data": {
      "text/html": [
       "<div>\n",
       "<style scoped>\n",
       "    .dataframe tbody tr th:only-of-type {\n",
       "        vertical-align: middle;\n",
       "    }\n",
       "\n",
       "    .dataframe tbody tr th {\n",
       "        vertical-align: top;\n",
       "    }\n",
       "\n",
       "    .dataframe thead th {\n",
       "        text-align: right;\n",
       "    }\n",
       "</style>\n",
       "<table border=\"1\" class=\"dataframe\">\n",
       "  <thead>\n",
       "    <tr style=\"text-align: right;\">\n",
       "      <th></th>\n",
       "      <th>loanId</th>\n",
       "      <th>memberId</th>\n",
       "      <th>date</th>\n",
       "      <th>purpose</th>\n",
       "      <th>isJointApplication</th>\n",
       "      <th>loanAmount</th>\n",
       "      <th>term</th>\n",
       "      <th>interestRate</th>\n",
       "      <th>monthlyPayment</th>\n",
       "      <th>grade</th>\n",
       "      <th>...</th>\n",
       "      <th>lengthCreditHistory_bins</th>\n",
       "      <th>numTotalCreditLines_bins</th>\n",
       "      <th>numOpenCreditLines_bins</th>\n",
       "      <th>numOpenCreditLines1Year_bins</th>\n",
       "      <th>revolvingBalance_bins</th>\n",
       "      <th>revolvingUtilizationRate_bins</th>\n",
       "      <th>numDerogatoryRec_bins</th>\n",
       "      <th>numDelinquency2Years_bins</th>\n",
       "      <th>numChargeoff1year_bins</th>\n",
       "      <th>numInquiries6Mon_bins</th>\n",
       "    </tr>\n",
       "  </thead>\n",
       "  <tbody>\n",
       "    <tr>\n",
       "      <th>0</th>\n",
       "      <td>1888978</td>\n",
       "      <td>2305095</td>\n",
       "      <td>12/10/2014</td>\n",
       "      <td>debtconsolidation</td>\n",
       "      <td>0.0</td>\n",
       "      <td>25190.0</td>\n",
       "      <td>60 months</td>\n",
       "      <td>6.25</td>\n",
       "      <td>490</td>\n",
       "      <td>E3</td>\n",
       "      <td>...</td>\n",
       "      <td>0 to 8</td>\n",
       "      <td>&gt; 2</td>\n",
       "      <td>&gt; 5</td>\n",
       "      <td>6</td>\n",
       "      <td>13799 to 14345</td>\n",
       "      <td>0 to 49.88</td>\n",
       "      <td>0</td>\n",
       "      <td>&gt; 0</td>\n",
       "      <td>&gt; 0</td>\n",
       "      <td>0</td>\n",
       "    </tr>\n",
       "    <tr>\n",
       "      <th>1</th>\n",
       "      <td>1299695</td>\n",
       "      <td>2610493</td>\n",
       "      <td>9/15/2014</td>\n",
       "      <td>debtconsolidation</td>\n",
       "      <td>0.0</td>\n",
       "      <td>21189.0</td>\n",
       "      <td>60 months</td>\n",
       "      <td>10.49</td>\n",
       "      <td>455</td>\n",
       "      <td>B3</td>\n",
       "      <td>...</td>\n",
       "      <td>&gt; 8</td>\n",
       "      <td>&gt; 2</td>\n",
       "      <td>&gt; 5</td>\n",
       "      <td>4</td>\n",
       "      <td>17374 to 18877</td>\n",
       "      <td>60.01 to 74.25</td>\n",
       "      <td>1</td>\n",
       "      <td>0</td>\n",
       "      <td>0</td>\n",
       "      <td>0</td>\n",
       "    </tr>\n",
       "    <tr>\n",
       "      <th>2</th>\n",
       "      <td>1875016</td>\n",
       "      <td>2491679</td>\n",
       "      <td>9/11/2014</td>\n",
       "      <td>debtconsolidation</td>\n",
       "      <td>0.0</td>\n",
       "      <td>29908.0</td>\n",
       "      <td>60 months</td>\n",
       "      <td>9.11</td>\n",
       "      <td>622</td>\n",
       "      <td>B2</td>\n",
       "      <td>...</td>\n",
       "      <td>0 to 8</td>\n",
       "      <td>&gt; 2</td>\n",
       "      <td>3 to 5</td>\n",
       "      <td>5</td>\n",
       "      <td>0 to 11912</td>\n",
       "      <td>60.01 to 74.25</td>\n",
       "      <td>0</td>\n",
       "      <td>&gt; 0</td>\n",
       "      <td>&gt; 0</td>\n",
       "      <td>0</td>\n",
       "    </tr>\n",
       "    <tr>\n",
       "      <th>3</th>\n",
       "      <td>1440478</td>\n",
       "      <td>2092798</td>\n",
       "      <td>4/22/2016</td>\n",
       "      <td>homeimprovement</td>\n",
       "      <td>0.0</td>\n",
       "      <td>13053.0</td>\n",
       "      <td>48 months</td>\n",
       "      <td>11.89</td>\n",
       "      <td>343</td>\n",
       "      <td>B3</td>\n",
       "      <td>...</td>\n",
       "      <td>&gt; 8</td>\n",
       "      <td>&gt; 2</td>\n",
       "      <td>&gt; 5</td>\n",
       "      <td>0 to 3</td>\n",
       "      <td>14785 to 15360</td>\n",
       "      <td>60.01 to 74.25</td>\n",
       "      <td>1</td>\n",
       "      <td>0</td>\n",
       "      <td>0</td>\n",
       "      <td>&gt; 0</td>\n",
       "    </tr>\n",
       "    <tr>\n",
       "      <th>4</th>\n",
       "      <td>1124634</td>\n",
       "      <td>2633077</td>\n",
       "      <td>2/3/2016</td>\n",
       "      <td>debtconsolidation</td>\n",
       "      <td>0.0</td>\n",
       "      <td>24613.0</td>\n",
       "      <td>60 months</td>\n",
       "      <td>15.13</td>\n",
       "      <td>587</td>\n",
       "      <td>A3</td>\n",
       "      <td>...</td>\n",
       "      <td>0 to 8</td>\n",
       "      <td>&gt; 2</td>\n",
       "      <td>&gt; 5</td>\n",
       "      <td>&gt; 9</td>\n",
       "      <td>&gt; 18877</td>\n",
       "      <td>49.88 to 60.01</td>\n",
       "      <td>&gt; 1</td>\n",
       "      <td>&gt; 0</td>\n",
       "      <td>&gt; 0</td>\n",
       "      <td>&gt; 0</td>\n",
       "    </tr>\n",
       "  </tbody>\n",
       "</table>\n",
       "<p>5 rows × 43 columns</p>\n",
       "</div>"
      ],
      "text/plain": [
       "    loanId  memberId        date            purpose  isJointApplication  \\\n",
       "0  1888978   2305095  12/10/2014  debtconsolidation                 0.0   \n",
       "1  1299695   2610493   9/15/2014  debtconsolidation                 0.0   \n",
       "2  1875016   2491679   9/11/2014  debtconsolidation                 0.0   \n",
       "3  1440478   2092798   4/22/2016    homeimprovement                 0.0   \n",
       "4  1124634   2633077    2/3/2016  debtconsolidation                 0.0   \n",
       "\n",
       "   loanAmount       term  interestRate  monthlyPayment grade  \\\n",
       "0     25190.0  60 months          6.25             490    E3   \n",
       "1     21189.0  60 months         10.49             455    B3   \n",
       "2     29908.0  60 months          9.11             622    B2   \n",
       "3     13053.0  48 months         11.89             343    B3   \n",
       "4     24613.0  60 months         15.13             587    A3   \n",
       "\n",
       "           ...           lengthCreditHistory_bins numTotalCreditLines_bins  \\\n",
       "0          ...                             0 to 8                      > 2   \n",
       "1          ...                                > 8                      > 2   \n",
       "2          ...                             0 to 8                      > 2   \n",
       "3          ...                                > 8                      > 2   \n",
       "4          ...                             0 to 8                      > 2   \n",
       "\n",
       "  numOpenCreditLines_bins numOpenCreditLines1Year_bins  revolvingBalance_bins  \\\n",
       "0                     > 5                            6         13799 to 14345   \n",
       "1                     > 5                            4         17374 to 18877   \n",
       "2                  3 to 5                            5             0 to 11912   \n",
       "3                     > 5                       0 to 3         14785 to 15360   \n",
       "4                     > 5                          > 9                > 18877   \n",
       "\n",
       "   revolvingUtilizationRate_bins  numDerogatoryRec_bins  \\\n",
       "0                     0 to 49.88                      0   \n",
       "1                 60.01 to 74.25                      1   \n",
       "2                 60.01 to 74.25                      0   \n",
       "3                 60.01 to 74.25                      1   \n",
       "4                 49.88 to 60.01                    > 1   \n",
       "\n",
       "   numDelinquency2Years_bins  numChargeoff1year_bins  numInquiries6Mon_bins  \n",
       "0                        > 0                     > 0                      0  \n",
       "1                          0                       0                      0  \n",
       "2                        > 0                     > 0                      0  \n",
       "3                          0                       0                    > 0  \n",
       "4                        > 0                     > 0                    > 0  \n",
       "\n",
       "[5 rows x 43 columns]"
      ]
     },
     "execution_count": 2,
     "metadata": {},
     "output_type": "execute_result"
    }
   ],
   "source": [
    "model_df = pd.read_csv(os.path.join(\"data\", \"Modeling_data.csv\"))\n",
    "model_df.head()"
   ]
  },
  {
   "cell_type": "code",
   "execution_count": 3,
   "metadata": {
    "scrolled": true
   },
   "outputs": [
    {
     "data": {
      "text/plain": [
       "loanId                             int64\n",
       "memberId                           int64\n",
       "date                              object\n",
       "purpose                           object\n",
       "isJointApplication               float64\n",
       "loanAmount                       float64\n",
       "term                              object\n",
       "interestRate                     float64\n",
       "monthlyPayment                     int64\n",
       "grade                             object\n",
       "loanStatus                        object\n",
       "residentialState                  object\n",
       "yearsEmployment                   object\n",
       "homeOwnership                     object\n",
       "annualIncome                       int64\n",
       "incomeVerified                     int64\n",
       "dtiRatio                         float64\n",
       "lengthCreditHistory                int64\n",
       "numTotalCreditLines                int64\n",
       "numOpenCreditLines               float64\n",
       "numOpenCreditLines1Year            int64\n",
       "revolvingBalance                   int64\n",
       "revolvingUtilizationRate         float64\n",
       "numDerogatoryRec                   int64\n",
       "numDelinquency2Years               int64\n",
       "numChargeoff1year                  int64\n",
       "numInquiries6Mon                   int64\n",
       "default                            int64\n",
       "loanAmount_bins                   object\n",
       "interestRate_bins                 object\n",
       "monthlyPayment_bins               object\n",
       "annualIncome_bins                 object\n",
       "dtiRatio_bins                     object\n",
       "lengthCreditHistory_bins          object\n",
       "numTotalCreditLines_bins          object\n",
       "numOpenCreditLines_bins           object\n",
       "numOpenCreditLines1Year_bins      object\n",
       "revolvingBalance_bins             object\n",
       "revolvingUtilizationRate_bins     object\n",
       "numDerogatoryRec_bins             object\n",
       "numDelinquency2Years_bins         object\n",
       "numChargeoff1year_bins            object\n",
       "numInquiries6Mon_bins             object\n",
       "dtype: object"
      ]
     },
     "execution_count": 3,
     "metadata": {},
     "output_type": "execute_result"
    }
   ],
   "source": [
    "model_df.dtypes"
   ]
  },
  {
   "cell_type": "code",
   "execution_count": 4,
   "metadata": {},
   "outputs": [
    {
     "data": {
      "text/plain": [
       "Index(['loanId', 'memberId', 'date', 'isJointApplication', 'loanAmount',\n",
       "       'interestRate', 'monthlyPayment', 'grade', 'loanStatus',\n",
       "       'residentialState', 'annualIncome', 'incomeVerified', 'dtiRatio',\n",
       "       'lengthCreditHistory', 'numTotalCreditLines', 'numOpenCreditLines',\n",
       "       'numOpenCreditLines1Year', 'revolvingBalance',\n",
       "       'revolvingUtilizationRate', 'numDerogatoryRec', 'numDelinquency2Years',\n",
       "       'numChargeoff1year', 'numInquiries6Mon', 'default', 'purpose_auto',\n",
       "       'purpose_business', 'purpose_debtconsolidation', 'purpose_education',\n",
       "       'purpose_healthcare', 'purpose_homeimprovement', 'purpose_other',\n",
       "       'term_36 months', 'term_48 months', 'term_60 months',\n",
       "       'yearsEmployment_1 year', 'yearsEmployment_10+ years',\n",
       "       'yearsEmployment_2-5 years', 'yearsEmployment_6-9 years',\n",
       "       'yearsEmployment_< 1 year', 'homeOwnership_mortgage',\n",
       "       'homeOwnership_own', 'homeOwnership_rent'],\n",
       "      dtype='object')"
      ]
     },
     "execution_count": 4,
     "metadata": {},
     "output_type": "execute_result"
    }
   ],
   "source": [
    "cat_vars=['purpose', 'term', 'yearsEmployment', 'homeOwnership']\n",
    "\n",
    "for var in cat_vars:\n",
    "    cat_list = 'var' + '_' + var\n",
    "    cat_list = pd.get_dummies(model_df[var], prefix=var)\n",
    "    aux = model_df.join(cat_list)\n",
    "    model_df = aux\n",
    "    \n",
    "model_df_vars = model_df.columns.values.tolist()\n",
    "to_keep = [i for i in model_df_vars if (i not in cat_vars and \"bins\" not in i)]\n",
    "model_df_final = model_df[to_keep]\n",
    "model_df_final.columns"
   ]
  },
  {
   "cell_type": "code",
   "execution_count": 5,
   "metadata": {},
   "outputs": [
    {
     "data": {
      "text/plain": [
       "Index(['isJointApplication', 'loanAmount', 'annualIncome', 'incomeVerified',\n",
       "       'dtiRatio', 'lengthCreditHistory', 'numTotalCreditLines',\n",
       "       'numOpenCreditLines', 'numOpenCreditLines1Year', 'revolvingBalance',\n",
       "       'revolvingUtilizationRate', 'numDerogatoryRec', 'numDelinquency2Years',\n",
       "       'numChargeoff1year', 'numInquiries6Mon', 'purpose_auto',\n",
       "       'purpose_business', 'purpose_debtconsolidation', 'purpose_education',\n",
       "       'purpose_healthcare', 'purpose_homeimprovement', 'purpose_other',\n",
       "       'term_36 months', 'term_48 months', 'term_60 months',\n",
       "       'yearsEmployment_1 year', 'yearsEmployment_10+ years',\n",
       "       'yearsEmployment_2-5 years', 'yearsEmployment_6-9 years',\n",
       "       'yearsEmployment_< 1 year', 'homeOwnership_mortgage',\n",
       "       'homeOwnership_own', 'homeOwnership_rent'],\n",
       "      dtype='object')"
      ]
     },
     "execution_count": 5,
     "metadata": {},
     "output_type": "execute_result"
    }
   ],
   "source": [
    "target = model_df_final[\"default\"]\n",
    "target_names = [\"current\", \"default\"]\n",
    "data = model_df_final.drop([\"loanStatus\",\"default\",\"loanId\",\"memberId\",\"date\",\"residentialState\",\"grade\",\n",
    "                           \"interestRate\",'monthlyPayment',], axis=1)\n",
    "feature_names = data.columns\n",
    "feature_names"
   ]
  },
  {
   "cell_type": "code",
   "execution_count": 6,
   "metadata": {},
   "outputs": [
    {
     "data": {
      "text/plain": [
       "1.0"
      ]
     },
     "execution_count": 6,
     "metadata": {},
     "output_type": "execute_result"
    }
   ],
   "source": [
    "clf = tree.DecisionTreeClassifier()\n",
    "clf = clf.fit(data, target)\n",
    "clf.score(data, target)"
   ]
  },
  {
   "cell_type": "code",
   "execution_count": 7,
   "metadata": {},
   "outputs": [
    {
     "data": {
      "image/png": "[encoded data removed]",
      "text/plain": [
       "<Figure size 432x288 with 1 Axes>"
      ]
     },
     "metadata": {},
     "output_type": "display_data"
    }
   ],
   "source": [
    "feature_importance = clf.feature_importances_\n",
    "feature_importance = 100.0 * (feature_importance / feature_importance.max())\n",
    "sorted_features = np.argsort(feature_importance)\n",
    "pos = np.arange(sorted_features.shape[0]) + .5\n",
    "\n",
    "plt.barh(pos, feature_importance[sorted_features], align='center', color='crimson')\n",
    "plt.title('Variable Importance')\n",
    "plt.xlabel('Relative Importance')\n",
    "\n",
    "plt.yticks(pos, data.columns[sorted_features])\n",
    "\n",
    "plt.show()"
   ]
  },
  {
   "cell_type": "code",
   "execution_count": 8,
   "metadata": {},
   "outputs": [
    {
     "data": {
      "text/plain": [
       "[(0.19517366840740763, 'annualIncome'),\n",
       " (0.1366570842898925, 'revolvingBalance'),\n",
       " (0.11163745926912524, 'dtiRatio'),\n",
       " (0.0980539247748933, 'loanAmount'),\n",
       " (0.09373491913347831, 'revolvingUtilizationRate'),\n",
       " (0.05017926014070059, 'lengthCreditHistory'),\n",
       " (0.04442489925417612, 'numOpenCreditLines1Year'),\n",
       " (0.04134204893087996, 'numTotalCreditLines'),\n",
       " (0.03824542164964538, 'numOpenCreditLines'),\n",
       " (0.02689663982295045, 'numInquiries6Mon'),\n",
       " (0.016781492180855135, 'numDerogatoryRec'),\n",
       " (0.015209250952534264, 'numDelinquency2Years'),\n",
       " (0.011534477352112169, 'numChargeoff1year'),\n",
       " (0.009746480650683967, 'yearsEmployment_< 1 year'),\n",
       " (0.009557063061224351, 'incomeVerified'),\n",
       " (0.009213201579243692, 'homeOwnership_rent'),\n",
       " (0.007726462296497971, 'term_48 months'),\n",
       " (0.0075440056372561, 'homeOwnership_mortgage'),\n",
       " (0.007431927954909433, 'yearsEmployment_10+ years'),\n",
       " (0.007281460476328906, 'yearsEmployment_2-5 years'),\n",
       " (0.006432887925794154, 'homeOwnership_own'),\n",
       " (0.006421267465413079, 'term_36 months'),\n",
       " (0.006074529604191817, 'term_60 months'),\n",
       " (0.005955480080174511, 'yearsEmployment_6-9 years'),\n",
       " (0.00593305850083087, 'yearsEmployment_1 year'),\n",
       " (0.00563919936353827, 'purpose_healthcare'),\n",
       " (0.004971543706142972, 'isJointApplication'),\n",
       " (0.004791807261402849, 'purpose_business'),\n",
       " (0.00459845870673168, 'purpose_homeimprovement'),\n",
       " (0.003884509317115916, 'purpose_other'),\n",
       " (0.0032589955674039435, 'purpose_debtconsolidation'),\n",
       " (0.002015153049607814, 'purpose_auto'),\n",
       " (0.001651961636856556, 'purpose_education')]"
      ]
     },
     "execution_count": 8,
     "metadata": {},
     "output_type": "execute_result"
    }
   ],
   "source": [
    "feature_importance_list=sorted(zip(clf.feature_importances_, feature_names), reverse=True)\n",
    "feature_importance_list"
   ]
  },
  {
   "cell_type": "code",
   "execution_count": 9,
   "metadata": {},
   "outputs": [
    {
     "data": {
      "text/plain": [
       "['annualIncome',\n",
       " 'revolvingBalance',\n",
       " 'dtiRatio',\n",
       " 'loanAmount',\n",
       " 'revolvingUtilizationRate',\n",
       " 'lengthCreditHistory',\n",
       " 'numOpenCreditLines1Year',\n",
       " 'numTotalCreditLines',\n",
       " 'numOpenCreditLines',\n",
       " 'numInquiries6Mon',\n",
       " 'numDerogatoryRec',\n",
       " 'numDelinquency2Years',\n",
       " 'numChargeoff1year']"
      ]
     },
     "execution_count": 9,
     "metadata": {},
     "output_type": "execute_result"
    }
   ],
   "source": [
    "feature_selected=[feature[1] for feature in feature_importance_list if (feature[0]>=0.01)]\n",
    "feature_selected"
   ]
  },
  {
   "cell_type": "markdown",
   "metadata": {},
   "source": [
    "# Data Spliting"
   ]
  },
  {
   "cell_type": "code",
   "execution_count": 10,
   "metadata": {},
   "outputs": [],
   "source": [
    "from sklearn.model_selection import train_test_split\n",
    "X_train, X_test, y_train, y_test = train_test_split(data, target, random_state=42)"
   ]
  },
  {
   "cell_type": "markdown",
   "metadata": {},
   "source": [
    "# Decison Tree"
   ]
  },
  {
   "cell_type": "code",
   "execution_count": 11,
   "metadata": {},
   "outputs": [
    {
     "name": "stdout",
     "output_type": "stream",
     "text": [
      "{'criterion': 'gini', 'max_depth': 5, 'min_samples_split': 50}\n",
      "0.908534384630334\n"
     ]
    }
   ],
   "source": [
    "tree_param = {'criterion': [\"gini\",\"entropy\"],\n",
    "              'min_samples_split' : [50],\n",
    "              'max_depth': [2, 5, 10]\n",
    "             }\n",
    "tree_classificator = tree.DecisionTreeClassifier()\n",
    "tree_classificator_best = GridSearchCV(estimator=tree_classificator, param_grid=tree_param, cv=5)\n",
    "\n",
    "tree_classificator_best=tree_classificator_best.fit(X_train[feature_selected], y_train)\n",
    "print(tree_classificator_best.best_params_)\n",
    "print(tree_classificator_best.best_score_)"
   ]
  },
  {
   "cell_type": "code",
   "execution_count": 12,
   "metadata": {},
   "outputs": [
    {
     "data": {
      "text/plain": [
       "0.9037188189730563"
      ]
     },
     "execution_count": 12,
     "metadata": {},
     "output_type": "execute_result"
    }
   ],
   "source": [
    "tree_classificator = tree.DecisionTreeClassifier(criterion='gini',max_depth=5,min_samples_split=50)\n",
    "tree_classificator=tree_classificator.fit(X_train[feature_selected], y_train)\n",
    "tree_classificator.score(X_test[feature_selected], y_test)"
   ]
  },
  {
   "cell_type": "code",
   "execution_count": 13,
   "metadata": {},
   "outputs": [
    {
     "data": {
      "image/png": "[encoded data removed]",
      "text/plain": [
       "<Figure size 432x288 with 1 Axes>"
      ]
     },
     "metadata": {},
     "output_type": "display_data"
    }
   ],
   "source": [
    "feature_importance = tree_classificator.feature_importances_\n",
    "feature_importance = 100.0 * (feature_importance / feature_importance.max())\n",
    "sorted_features = np.argsort(feature_importance)\n",
    "pos = np.arange(sorted_features.shape[0]) + .5\n",
    "\n",
    "plt.barh(pos, feature_importance[sorted_features], align='center', color='crimson')\n",
    "plt.title('Variable Importance')\n",
    "plt.xlabel('Relative Importance')\n",
    "\n",
    "plt.yticks(pos, X_train[feature_selected].columns[sorted_features])\n",
    "\n",
    "plt.show()"
   ]
  },
  {
   "cell_type": "code",
   "execution_count": 14,
   "metadata": {},
   "outputs": [
    {
     "name": "stdout",
     "output_type": "stream",
     "text": [
      "[[21332   192]\n",
      " [ 2120   369]]\n",
      "Decion Tree\n",
      "\n",
      "True positive:  21332\n",
      "False positive:  192\n",
      "True Negative:  369\n",
      "False Negative:  2120\n",
      "\n",
      "\n",
      "Classification Report\n",
      "              precision    recall  f1-score   support\n",
      "\n",
      "          0       0.91      0.99      0.95     21524\n",
      "          1       0.66      0.15      0.24      2489\n",
      "\n",
      "avg / total       0.88      0.90      0.88     24013\n",
      "\n",
      "-------------------------------------------------------\n"
     ]
    }
   ],
   "source": [
    "y_pred = tree_classificator.predict(X_test[feature_selected])\n",
    "matrix = confusion_matrix(y_test, y_pred)\n",
    "print(matrix)\n",
    "print(\"Decion Tree\")\n",
    "print('\\nTrue positive: ', matrix[0][0])\n",
    "print('False positive: ', matrix[0][1])\n",
    "print('True Negative: ', matrix[1][1])\n",
    "print('False Negative: ', matrix[1][0])\n",
    "print('\\n\\nClassification Report\\n', classification_report(y_test, y_pred))\n",
    "print('-------------------------------------------------------')"
   ]
  },
  {
   "cell_type": "markdown",
   "metadata": {},
   "source": [
    "# Random Forest"
   ]
  },
  {
   "cell_type": "code",
   "execution_count": 15,
   "metadata": {
    "scrolled": false
   },
   "outputs": [
    {
     "name": "stdout",
     "output_type": "stream",
     "text": [
      "{'criterion': 'gini', 'max_depth': 10, 'min_samples_split': 50, 'n_estimators': 200}\n",
      "0.9119353674449596\n"
     ]
    }
   ],
   "source": [
    "from sklearn.ensemble import RandomForestClassifier\n",
    "from sklearn.model_selection import GridSearchCV\n",
    "rf = RandomForestClassifier()\n",
    "\n",
    "rf_param = {'n_estimators': [10, 100, 200],\n",
    "              'criterion' : ['gini'],\n",
    "              'min_samples_split' : [50],\n",
    "              'max_depth': [2, 5, 10]}\n",
    "\n",
    "rf_best = GridSearchCV(estimator=rf, param_grid=rf_param, cv=5)\n",
    "rf_best.fit(X_train[feature_selected], y_train)\n",
    "\n",
    "\n",
    "print(rf_best.best_params_)\n",
    "print(rf_best.best_score_)"
   ]
  },
  {
   "cell_type": "code",
   "execution_count": 16,
   "metadata": {},
   "outputs": [],
   "source": [
    "rf = RandomForestClassifier(n_estimators=100,\n",
    "              criterion='gini',\n",
    "              min_samples_split=50,\n",
    "              max_depth= 10)\n",
    "rf=rf.fit(X_train[feature_selected], y_train)"
   ]
  },
  {
   "cell_type": "code",
   "execution_count": 17,
   "metadata": {
    "scrolled": true
   },
   "outputs": [
    {
     "name": "stdout",
     "output_type": "stream",
     "text": [
      "[[21413   111]\n",
      " [ 2094   395]]\n",
      "Random Forest\n",
      "\n",
      "True positive:  21413\n",
      "False positive:  111\n",
      "True Negative:  395\n",
      "False Negative:  2094\n",
      "\n",
      "\n",
      "Classification Report\n",
      "              precision    recall  f1-score   support\n",
      "\n",
      "          0       0.91      0.99      0.95     21524\n",
      "          1       0.78      0.16      0.26      2489\n",
      "\n",
      "avg / total       0.90      0.91      0.88     24013\n",
      "\n",
      "-------------------------------------------------------\n"
     ]
    }
   ],
   "source": [
    "y_pred = rf.predict(X_test[feature_selected])\n",
    "matrix = confusion_matrix(y_test, y_pred)\n",
    "print(matrix)\n",
    "print(\"Random Forest\")\n",
    "print('\\nTrue positive: ', matrix[0][0])\n",
    "print('False positive: ', matrix[0][1])\n",
    "print('True Negative: ', matrix[1][1])\n",
    "print('False Negative: ', matrix[1][0])\n",
    "print('\\n\\nClassification Report\\n', classification_report(y_test, y_pred))\n",
    "print('-------------------------------------------------------')"
   ]
  },
  {
   "cell_type": "markdown",
   "metadata": {},
   "source": [
    "# Logistic Regression"
   ]
  },
  {
   "cell_type": "code",
   "execution_count": 18,
   "metadata": {},
   "outputs": [
    {
     "data": {
      "text/plain": [
       "LogisticRegression(C=1.0, class_weight=None, dual=False, fit_intercept=True,\n",
       "          intercept_scaling=1, max_iter=100, multi_class='ovr', n_jobs=1,\n",
       "          penalty='l2', random_state=None, solver='liblinear', tol=0.0001,\n",
       "          verbose=0, warm_start=False)"
      ]
     },
     "execution_count": 18,
     "metadata": {},
     "output_type": "execute_result"
    }
   ],
   "source": [
    "from sklearn.linear_model import LogisticRegression\n",
    "# from sklearn import metrics\n",
    "\n",
    "logreg = LogisticRegression()\n",
    "logreg.fit(X_train[feature_selected], y_train)\n"
   ]
  },
  {
   "cell_type": "code",
   "execution_count": 19,
   "metadata": {},
   "outputs": [
    {
     "name": "stdout",
     "output_type": "stream",
     "text": [
      "[[21454    70]\n",
      " [ 2331   158]]\n",
      "Logistic Regression\n",
      "\n",
      "True positive:  21454\n",
      "False positive:  70\n",
      "True Negative:  158\n",
      "False Negative:  2331\n",
      "\n",
      "\n",
      "Classification Report\n",
      "              precision    recall  f1-score   support\n",
      "\n",
      "          0       0.90      1.00      0.95     21524\n",
      "          1       0.69      0.06      0.12      2489\n",
      "\n",
      "avg / total       0.88      0.90      0.86     24013\n",
      "\n",
      "-------------------------------------------------------\n"
     ]
    }
   ],
   "source": [
    "y_pred = logreg.predict(X_test[feature_selected])\n",
    "matrix = confusion_matrix(y_test, y_pred)\n",
    "print(matrix)\n",
    "print(\"Logistic Regression\")\n",
    "print('\\nTrue positive: ', matrix[0][0])\n",
    "print('False positive: ', matrix[0][1])\n",
    "print('True Negative: ', matrix[1][1])\n",
    "print('False Negative: ', matrix[1][0])\n",
    "print('\\n\\nClassification Report\\n', classification_report(y_test, y_pred))\n",
    "print('-------------------------------------------------------')"
   ]
  },
  {
   "cell_type": "markdown",
   "metadata": {},
   "source": [
    "# Deep Learning"
   ]
  },
  {
   "cell_type": "code",
   "execution_count": 20,
   "metadata": {},
   "outputs": [
    {
     "name": "stderr",
     "output_type": "stream",
     "text": [
      "C:\\Users\\marce\\Anaconda3\\envs\\MarceloEnvironment\\lib\\site-packages\\h5py\\__init__.py:36: FutureWarning: Conversion of the second argument of issubdtype from `float` to `np.floating` is deprecated. In future, it will be treated as `np.float64 == np.dtype(float).type`.\n",
      "  from ._conv import register_converters as _register_converters\n",
      "Using TensorFlow backend.\n"
     ]
    }
   ],
   "source": [
    "from sklearn.preprocessing import StandardScaler\n",
    "\n",
    "# Create a StandardScater model and fit it to the training data\n",
    "X_scaler = StandardScaler().fit(X_train[feature_selected])\n",
    "X_train_scaled = X_scaler.transform(X_train[feature_selected])\n",
    "X_test_scaled = X_scaler.transform(X_test[feature_selected])\n",
    "\n",
    "from keras.utils import to_categorical\n",
    "\n",
    "y_train_categorical = to_categorical(y_train)\n",
    "y_test_categorical = to_categorical(y_test)"
   ]
  },
  {
   "cell_type": "code",
   "execution_count": 24,
   "metadata": {},
   "outputs": [
    {
     "name": "stdout",
     "output_type": "stream",
     "text": [
      "_________________________________________________________________\n",
      "Layer (type)                 Output Shape              Param #   \n",
      "=================================================================\n",
      "dense_5 (Dense)              (None, 13)                182       \n",
      "_________________________________________________________________\n",
      "dense_6 (Dense)              (None, 13)                182       \n",
      "_________________________________________________________________\n",
      "dense_7 (Dense)              (None, 13)                182       \n",
      "_________________________________________________________________\n",
      "dense_8 (Dense)              (None, 2)                 28        \n",
      "=================================================================\n",
      "Total params: 574\n",
      "Trainable params: 574\n",
      "Non-trainable params: 0\n",
      "_________________________________________________________________\n"
     ]
    }
   ],
   "source": [
    "from keras.models import Sequential\n",
    "from keras.layers import Dense\n",
    "\n",
    "deep = Sequential()\n",
    "deep.add(Dense(units=13, activation='relu', input_dim=13))\n",
    "deep.add(Dense(units=13, activation='relu'))\n",
    "deep.add(Dense(units=13, activation='relu'))\n",
    "deep.add(Dense(units=2, activation='softmax'))\n",
    "deep.summary()"
   ]
  },
  {
   "cell_type": "code",
   "execution_count": 25,
   "metadata": {},
   "outputs": [],
   "source": [
    "# Compile the model\n",
    "deep.compile(optimizer='adam',\n",
    "              loss='categorical_crossentropy',\n",
    "              metrics=['accuracy'])"
   ]
  },
  {
   "cell_type": "code",
   "execution_count": 26,
   "metadata": {},
   "outputs": [
    {
     "name": "stdout",
     "output_type": "stream",
     "text": [
      "Epoch 1/100\n",
      " - 3s - loss: 0.2541 - acc: 0.9091\n",
      "Epoch 2/100\n",
      " - 3s - loss: 0.2343 - acc: 0.9127\n",
      "Epoch 3/100\n",
      " - 3s - loss: 0.2311 - acc: 0.9137\n",
      "Epoch 4/100\n",
      " - 3s - loss: 0.2288 - acc: 0.9142\n",
      "Epoch 5/100\n",
      " - 3s - loss: 0.2268 - acc: 0.9152\n",
      "Epoch 6/100\n",
      " - 3s - loss: 0.2255 - acc: 0.9154\n",
      "Epoch 7/100\n",
      " - 3s - loss: 0.2243 - acc: 0.9152\n",
      "Epoch 8/100\n",
      " - 3s - loss: 0.2234 - acc: 0.9155\n",
      "Epoch 9/100\n",
      " - 3s - loss: 0.2228 - acc: 0.9160\n",
      "Epoch 10/100\n",
      " - 3s - loss: 0.2223 - acc: 0.9159\n",
      "Epoch 11/100\n",
      " - 3s - loss: 0.2220 - acc: 0.9157\n",
      "Epoch 12/100\n",
      " - 3s - loss: 0.2215 - acc: 0.9159\n",
      "Epoch 13/100\n",
      " - 3s - loss: 0.2213 - acc: 0.9160\n",
      "Epoch 14/100\n",
      " - 3s - loss: 0.2211 - acc: 0.9158\n",
      "Epoch 15/100\n",
      " - 3s - loss: 0.2208 - acc: 0.9160\n",
      "Epoch 16/100\n",
      " - 3s - loss: 0.2205 - acc: 0.9160\n",
      "Epoch 17/100\n",
      " - 3s - loss: 0.2206 - acc: 0.9159\n",
      "Epoch 18/100\n",
      " - 3s - loss: 0.2204 - acc: 0.9166\n",
      "Epoch 19/100\n",
      " - 3s - loss: 0.2199 - acc: 0.9165\n",
      "Epoch 20/100\n",
      " - 3s - loss: 0.2200 - acc: 0.9165\n",
      "Epoch 21/100\n",
      " - 3s - loss: 0.2198 - acc: 0.9160\n",
      "Epoch 22/100\n",
      " - 3s - loss: 0.2197 - acc: 0.9163\n",
      "Epoch 23/100\n",
      " - 3s - loss: 0.2195 - acc: 0.9164\n",
      "Epoch 24/100\n",
      " - 3s - loss: 0.2195 - acc: 0.9165\n",
      "Epoch 25/100\n",
      " - 3s - loss: 0.2195 - acc: 0.9162\n",
      "Epoch 26/100\n",
      " - 3s - loss: 0.2195 - acc: 0.9167\n",
      "Epoch 27/100\n",
      " - 3s - loss: 0.2196 - acc: 0.9166\n",
      "Epoch 28/100\n",
      " - 3s - loss: 0.2194 - acc: 0.9163\n",
      "Epoch 29/100\n",
      " - 3s - loss: 0.2194 - acc: 0.9161\n",
      "Epoch 30/100\n",
      " - 3s - loss: 0.2191 - acc: 0.9165\n",
      "Epoch 31/100\n",
      " - 3s - loss: 0.2191 - acc: 0.9163\n",
      "Epoch 32/100\n",
      " - 3s - loss: 0.2189 - acc: 0.9166\n",
      "Epoch 33/100\n",
      " - 3s - loss: 0.2190 - acc: 0.9164\n",
      "Epoch 34/100\n",
      " - 3s - loss: 0.2189 - acc: 0.9163\n",
      "Epoch 35/100\n",
      " - 3s - loss: 0.2188 - acc: 0.9165\n",
      "Epoch 36/100\n",
      " - 3s - loss: 0.2187 - acc: 0.9165\n",
      "Epoch 37/100\n",
      " - 3s - loss: 0.2186 - acc: 0.9169\n",
      "Epoch 38/100\n",
      " - 3s - loss: 0.2187 - acc: 0.9165\n",
      "Epoch 39/100\n",
      " - 3s - loss: 0.2187 - acc: 0.9170\n",
      "Epoch 40/100\n",
      " - 3s - loss: 0.2185 - acc: 0.9170\n",
      "Epoch 41/100\n",
      " - 3s - loss: 0.2187 - acc: 0.9163\n",
      "Epoch 42/100\n",
      " - 3s - loss: 0.2184 - acc: 0.9169\n",
      "Epoch 43/100\n",
      " - 3s - loss: 0.2184 - acc: 0.9164\n",
      "Epoch 44/100\n",
      " - 3s - loss: 0.2182 - acc: 0.9168\n",
      "Epoch 45/100\n",
      " - 3s - loss: 0.2181 - acc: 0.9168\n",
      "Epoch 46/100\n",
      " - 3s - loss: 0.2183 - acc: 0.9165\n",
      "Epoch 47/100\n",
      " - 3s - loss: 0.2182 - acc: 0.9166\n",
      "Epoch 48/100\n",
      " - 3s - loss: 0.2181 - acc: 0.9165\n",
      "Epoch 49/100\n",
      " - 3s - loss: 0.2181 - acc: 0.9168\n",
      "Epoch 50/100\n",
      " - 3s - loss: 0.2181 - acc: 0.9170\n",
      "Epoch 51/100\n",
      " - 3s - loss: 0.2180 - acc: 0.9171\n",
      "Epoch 52/100\n",
      " - 3s - loss: 0.2180 - acc: 0.9167\n",
      "Epoch 53/100\n",
      " - 3s - loss: 0.2178 - acc: 0.9167\n",
      "Epoch 54/100\n",
      " - 3s - loss: 0.2179 - acc: 0.9168\n",
      "Epoch 55/100\n",
      " - 3s - loss: 0.2176 - acc: 0.9169\n",
      "Epoch 56/100\n",
      " - 3s - loss: 0.2179 - acc: 0.9168\n",
      "Epoch 57/100\n",
      " - 3s - loss: 0.2178 - acc: 0.9169\n",
      "Epoch 58/100\n",
      " - 3s - loss: 0.2177 - acc: 0.9165\n",
      "Epoch 59/100\n",
      " - 3s - loss: 0.2178 - acc: 0.9169\n",
      "Epoch 60/100\n",
      " - 3s - loss: 0.2176 - acc: 0.9171\n",
      "Epoch 61/100\n",
      " - 3s - loss: 0.2177 - acc: 0.9164\n",
      "Epoch 62/100\n",
      " - 3s - loss: 0.2175 - acc: 0.9168\n",
      "Epoch 63/100\n",
      " - 3s - loss: 0.2177 - acc: 0.9170\n",
      "Epoch 64/100\n",
      " - 3s - loss: 0.2175 - acc: 0.9167\n",
      "Epoch 65/100\n",
      " - 3s - loss: 0.2173 - acc: 0.9170\n",
      "Epoch 66/100\n",
      " - 3s - loss: 0.2175 - acc: 0.9171\n",
      "Epoch 67/100\n",
      " - 3s - loss: 0.2173 - acc: 0.9169\n",
      "Epoch 68/100\n",
      " - 3s - loss: 0.2173 - acc: 0.9171\n",
      "Epoch 69/100\n",
      " - 3s - loss: 0.2173 - acc: 0.9169\n",
      "Epoch 70/100\n",
      " - 3s - loss: 0.2172 - acc: 0.9170\n",
      "Epoch 71/100\n",
      " - 3s - loss: 0.2175 - acc: 0.9170\n",
      "Epoch 72/100\n",
      " - 3s - loss: 0.2172 - acc: 0.9169\n",
      "Epoch 73/100\n",
      " - 3s - loss: 0.2174 - acc: 0.9169\n",
      "Epoch 74/100\n",
      " - 3s - loss: 0.2171 - acc: 0.9170\n",
      "Epoch 75/100\n",
      " - 3s - loss: 0.2170 - acc: 0.9169\n",
      "Epoch 76/100\n",
      " - 4s - loss: 0.2172 - acc: 0.9174\n",
      "Epoch 77/100\n",
      " - 3s - loss: 0.2172 - acc: 0.9167\n",
      "Epoch 78/100\n",
      " - 3s - loss: 0.2170 - acc: 0.9172\n",
      "Epoch 79/100\n",
      " - 3s - loss: 0.2168 - acc: 0.9173\n",
      "Epoch 80/100\n",
      " - 4s - loss: 0.2169 - acc: 0.9173\n",
      "Epoch 81/100\n",
      " - 3s - loss: 0.2169 - acc: 0.9173\n",
      "Epoch 82/100\n",
      " - 3s - loss: 0.2169 - acc: 0.9174\n",
      "Epoch 83/100\n",
      " - 3s - loss: 0.2169 - acc: 0.9173\n",
      "Epoch 84/100\n",
      " - 3s - loss: 0.2167 - acc: 0.9172\n",
      "Epoch 85/100\n",
      " - 3s - loss: 0.2170 - acc: 0.9174\n",
      "Epoch 86/100\n",
      " - 3s - loss: 0.2167 - acc: 0.9171\n",
      "Epoch 87/100\n",
      " - 3s - loss: 0.2170 - acc: 0.9178\n",
      "Epoch 88/100\n",
      " - 3s - loss: 0.2168 - acc: 0.9175\n",
      "Epoch 89/100\n",
      " - 3s - loss: 0.2168 - acc: 0.9175\n",
      "Epoch 90/100\n",
      " - 3s - loss: 0.2166 - acc: 0.9175\n",
      "Epoch 91/100\n",
      " - 3s - loss: 0.2167 - acc: 0.9176\n",
      "Epoch 92/100\n",
      " - 3s - loss: 0.2167 - acc: 0.9174\n",
      "Epoch 93/100\n",
      " - 3s - loss: 0.2166 - acc: 0.9173\n",
      "Epoch 94/100\n",
      " - 3s - loss: 0.2166 - acc: 0.9177\n",
      "Epoch 95/100\n",
      " - 3s - loss: 0.2165 - acc: 0.9173\n",
      "Epoch 96/100\n",
      " - 3s - loss: 0.2167 - acc: 0.9176\n",
      "Epoch 97/100\n",
      " - 4s - loss: 0.2165 - acc: 0.9176\n",
      "Epoch 98/100\n",
      " - 3s - loss: 0.2166 - acc: 0.9173\n",
      "Epoch 99/100\n",
      " - 3s - loss: 0.2165 - acc: 0.9168\n",
      "Epoch 100/100\n",
      " - 3s - loss: 0.2167 - acc: 0.9177\n"
     ]
    },
    {
     "data": {
      "text/plain": [
       "<keras.callbacks.History at 0x20ab5ed9d68>"
      ]
     },
     "execution_count": 26,
     "metadata": {},
     "output_type": "execute_result"
    }
   ],
   "source": [
    "# Fit the model to the training data\n",
    "deep.fit(\n",
    "    X_train_scaled,\n",
    "    y_train_categorical,\n",
    "    epochs=100,\n",
    "    shuffle=True,\n",
    "    verbose=2)"
   ]
  },
  {
   "cell_type": "markdown",
   "metadata": {},
   "source": [
    "# Model Assessment"
   ]
  },
  {
   "cell_type": "code",
   "execution_count": 27,
   "metadata": {},
   "outputs": [
    {
     "data": {
      "image/png": "[encoded data removed]",
      "text/plain": [
       "<Figure size 432x360 with 1 Axes>"
      ]
     },
     "metadata": {},
     "output_type": "display_data"
    }
   ],
   "source": [
    "# y_pred_tree = tree_classificator.predict(X_test[feature_selected])\n",
    "# y_pred_rf = rf.predict(X_test[feature_selected])\n",
    "# y_pred_logreg = logreg.predict(X_test[feature_selected])\n",
    "\n",
    "colors = ['red', 'blue', 'green','purple']\n",
    "\n",
    "plt.figure(figsize=(6,5))\n",
    "\n",
    "classifiers = [tree_classificator, rf, logreg, deep]\n",
    "classifier_name = ['Decision Tree', 'Random Forest','Logistic Regression','Deep Learning']\n",
    "feature_selected_list = [feature_selected,feature_selected,feature_selected,feature_selected]\n",
    "\n",
    "for i in range(0, len(classifiers)):\n",
    "    classifier = classifiers[i]\n",
    "    #y_pred = classifier.predict(X_test[feature_selected_list[i]])\n",
    "       \n",
    "    fpr, tpr, thresholds = roc_curve(y_test, classifier.predict_proba(X_test[feature_selected_list[i]])[:,1])\n",
    "    if i == 3:\n",
    "        fpr, tpr, thresholds = roc_curve(y_test, classifier.predict_proba(X_test_scaled)[:,1])  \n",
    "        \n",
    "    roc_auc = auc(fpr, tpr)\n",
    "    plt.plot(fpr, tpr, label=str(classifier_name[i]) + '(AUROC = %0.2f)' % roc_auc,color=colors[i])\n",
    "    \n",
    "plt.plot([0, 1], [0, 1],'r--',color=\"black\")\n",
    "plt.xlim([0.0, 1.0])\n",
    "plt.ylim([0.0, 1.05])\n",
    "plt.xlabel('False Positive Rate')\n",
    "plt.ylabel('True Positive Rate')\n",
    "plt.title('Receiver operating characteristic')\n",
    "plt.legend(loc=\"lower right\")\n",
    "# plt.savefig('Log_ROC')\n",
    "plt.show()\n"
   ]
  },
  {
   "cell_type": "markdown",
   "metadata": {},
   "source": []
  },
  {
   "cell_type": "markdown",
   "metadata": {},
   "source": [
    "# Save the Models"
   ]
  },
  {
   "cell_type": "code",
   "execution_count": 42,
   "metadata": {},
   "outputs": [],
   "source": [
    "import pickle\n",
    "\n",
    "# Decision Tree\n",
    "with open('models/tree.pkl', 'wb') as fid:\n",
    "    pickle.dump(tree_classificator, fid, 2)\n",
    "\n",
    "# Logistic Regression\n",
    "with open('models/logreg.pkl', 'wb') as fid:\n",
    "    pickle.dump(logreg, fid, 2)\n",
    "    \n",
    "# Random Forest\n",
    "with open('models/rf.pkl', 'wb') as fid:\n",
    "    pickle.dump(rf, fid, 2)\n",
    "    \n",
    "# Neural Network\n",
    "with open('models/neural.pkl', 'wb') as fid:\n",
    "    pickle.dump(deep, fid, 2)\n",
    "    \n",
    "# X Scaler for Neural Network\n",
    "with open('models/XScaler.pkl', 'wb') as fid:\n",
    "    pickle.dump(X_scaler, fid, 2)"
   ]
  },
  {
   "cell_type": "markdown",
   "metadata": {},
   "source": [
    "# Testing Flask Code"
   ]
  },
  {
   "cell_type": "code",
   "execution_count": 43,
   "metadata": {},
   "outputs": [],
   "source": [
    "inputs = [[50000, 10000, 20, 10000, 50, 10, 1, 15, 7, 1, 1, 1, 1]]"
   ]
  },
  {
   "cell_type": "code",
   "execution_count": 53,
   "metadata": {},
   "outputs": [
    {
     "data": {
      "text/plain": [
       "[{'Model': 'Decision Tree', 'Pred': 0, 'Prob': 0.1255017393631255},\n",
       " {'Model': 'Logistic Regression', 'Pred': 0, 'Prob': 0.043552386778873936},\n",
       " {'Model': 'Random Forest', 'Pred': 0, 'Prob': 0.1769400397739792},\n",
       " {'Model': 'Neural Network', 'Pred': 0, 'Prob': 4.8513978e-20}]"
      ]
     },
     "execution_count": 53,
     "metadata": {},
     "output_type": "execute_result"
    }
   ],
   "source": [
    "model_files = ['models/tree.pkl', 'models/logreg.pkl', 'models/rf.pkl', 'models/neural.pkl']\n",
    "model_names = ['Decision Tree', 'Logistic Regression', 'Random Forest', 'Neural Network']\n",
    "outputs = []\n",
    "\n",
    "for i in range(0, len(model_names)):\n",
    "    pkl_file = open(model_files[i], 'rb')\n",
    "    model = pickle.load(pkl_file)\n",
    "    if model_names[i] == 'Neural Network':\n",
    "        scaler = pickle.load(open('models/XScaler.pkl', 'rb'))\n",
    "        inputs_scaled = scaler.transform(inputs)\n",
    "        dict = {\n",
    "            'Model': model_names[i],\n",
    "            'Pred' : model.predict_classes(inputs_scaled)[0],\n",
    "            'Prob' : model.predict_proba(inputs_scaled)[:,1][0]\n",
    "        }\n",
    "    else:\n",
    "        dict = {\n",
    "            'Model': model_names[i],\n",
    "            'Pred' : model.predict(inputs)[0],\n",
    "            'Prob' : model.predict_proba(inputs)[:,1][0]\n",
    "        }\n",
    "        \n",
    "    outputs.append(dict)\n",
    "    \n",
    "outputs"
   ]
  },
  {
   "cell_type": "code",
   "execution_count": null,
   "metadata": {},
   "outputs": [],
   "source": []
  }
 ],
 "metadata": {
  "kernelspec": {
   "display_name": "Python 3",
   "language": "python",
   "name": "python3"
  },
  "language_info": {
   "codemirror_mode": {
    "name": "ipython",
    "version": 3
   },
   "file_extension": ".py",
   "mimetype": "text/x-python",
   "name": "python",
   "nbconvert_exporter": "python",
   "pygments_lexer": "ipython3",
   "version": "3.6.5"
  }
 },
 "nbformat": 4,
 "nbformat_minor": 2
}
